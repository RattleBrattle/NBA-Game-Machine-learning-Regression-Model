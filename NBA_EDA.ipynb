{
 "cells": [
  {
   "cell_type": "markdown",
   "id": "b4465de0",
   "metadata": {},
   "source": [
    "# This File is the Exploratory Data Analysis File for the NBA dataset.\n",
    "Where I will:\n",
    "1. Check for missing values.\n",
    "2. Check for duplicates.\n",
    "3. Check for outliers.\n",
    "4. handle missing & duplicate values.\n",
    "5. handle outliers.\n"
   ]
  },
  {
   "cell_type": "markdown",
   "id": "cc08d82b",
   "metadata": {},
   "source": [
    "# 1. Print information about dataset."
   ]
  },
  {
   "cell_type": "markdown",
   "id": "777c3482",
   "metadata": {},
   "source": [
    "## 1.1. Import all libraries"
   ]
  },
  {
   "cell_type": "code",
   "execution_count": 330,
   "id": "3a209ab3",
   "metadata": {},
   "outputs": [],
   "source": [
    "import sys\n",
    "import seaborn as sns\n",
    "import matplotlib.pyplot as plt\n",
    "import pandas as pd\n",
    "import numpy as np\n",
    "import warnings\n",
    "from sklearn.preprocessing import LabelEncoder\n",
    "warnings.filterwarnings('ignore')"
   ]
  },
  {
   "cell_type": "markdown",
   "id": "088f4b9b",
   "metadata": {},
   "source": [
    "## 1.2. Import the dataset"
   ]
  },
  {
   "cell_type": "code",
   "execution_count": 331,
   "id": "77d6db8f",
   "metadata": {},
   "outputs": [],
   "source": [
    "try:\n",
    "    df = pd.read_csv('nba2k-full.csv')\n",
    "except FileNotFoundError:\n",
    "    print(\"File not found. Please ensure the dataset is in the correct directory.\")\n",
    "    sys.exit(1)\n",
    "except Exception as e:\n",
    "    print(f\"An error occurred while reading the dataset: {e}\")\n",
    "    sys.exit(1)"
   ]
  },
  {
   "cell_type": "code",
   "execution_count": 332,
   "id": "0e252f6e",
   "metadata": {},
   "outputs": [
    {
     "data": {
      "text/html": [
       "<div>\n",
       "<style scoped>\n",
       "    .dataframe tbody tr th:only-of-type {\n",
       "        vertical-align: middle;\n",
       "    }\n",
       "\n",
       "    .dataframe tbody tr th {\n",
       "        vertical-align: top;\n",
       "    }\n",
       "\n",
       "    .dataframe thead th {\n",
       "        text-align: right;\n",
       "    }\n",
       "</style>\n",
       "<table border=\"1\" class=\"dataframe\">\n",
       "  <thead>\n",
       "    <tr style=\"text-align: right;\">\n",
       "      <th></th>\n",
       "      <th>full_name</th>\n",
       "      <th>rating</th>\n",
       "      <th>jersey</th>\n",
       "      <th>team</th>\n",
       "      <th>position</th>\n",
       "      <th>b_day</th>\n",
       "      <th>height</th>\n",
       "      <th>weight</th>\n",
       "      <th>salary</th>\n",
       "      <th>country</th>\n",
       "      <th>draft_year</th>\n",
       "      <th>draft_round</th>\n",
       "      <th>draft_peak</th>\n",
       "      <th>college</th>\n",
       "      <th>version</th>\n",
       "    </tr>\n",
       "  </thead>\n",
       "  <tbody>\n",
       "    <tr>\n",
       "      <th>0</th>\n",
       "      <td>LeBron James</td>\n",
       "      <td>97</td>\n",
       "      <td>#23</td>\n",
       "      <td>Los Angeles Lakers</td>\n",
       "      <td>F</td>\n",
       "      <td>12/30/84</td>\n",
       "      <td>6-9 / 2.06</td>\n",
       "      <td>250 lbs. / 113.4 kg.</td>\n",
       "      <td>$37436858</td>\n",
       "      <td>USA</td>\n",
       "      <td>2003</td>\n",
       "      <td>1</td>\n",
       "      <td>1</td>\n",
       "      <td>NaN</td>\n",
       "      <td>NBA2k20</td>\n",
       "    </tr>\n",
       "    <tr>\n",
       "      <th>1</th>\n",
       "      <td>Kawhi Leonard</td>\n",
       "      <td>97</td>\n",
       "      <td>#2</td>\n",
       "      <td>Los Angeles Clippers</td>\n",
       "      <td>F</td>\n",
       "      <td>06/29/91</td>\n",
       "      <td>6-7 / 2.01</td>\n",
       "      <td>225 lbs. / 102.1 kg.</td>\n",
       "      <td>$32742000</td>\n",
       "      <td>USA</td>\n",
       "      <td>2011</td>\n",
       "      <td>1</td>\n",
       "      <td>15</td>\n",
       "      <td>San Diego State</td>\n",
       "      <td>NBA2k20</td>\n",
       "    </tr>\n",
       "    <tr>\n",
       "      <th>2</th>\n",
       "      <td>Giannis Antetokounmpo</td>\n",
       "      <td>96</td>\n",
       "      <td>#34</td>\n",
       "      <td>Milwaukee Bucks</td>\n",
       "      <td>F-G</td>\n",
       "      <td>12/06/94</td>\n",
       "      <td>6-11 / 2.11</td>\n",
       "      <td>242 lbs. / 109.8 kg.</td>\n",
       "      <td>$25842697</td>\n",
       "      <td>Greece</td>\n",
       "      <td>2013</td>\n",
       "      <td>1</td>\n",
       "      <td>15</td>\n",
       "      <td>NaN</td>\n",
       "      <td>NBA2k20</td>\n",
       "    </tr>\n",
       "    <tr>\n",
       "      <th>3</th>\n",
       "      <td>Kevin Durant</td>\n",
       "      <td>96</td>\n",
       "      <td>#7</td>\n",
       "      <td>Brooklyn Nets</td>\n",
       "      <td>F</td>\n",
       "      <td>09/29/88</td>\n",
       "      <td>6-10 / 2.08</td>\n",
       "      <td>230 lbs. / 104.3 kg.</td>\n",
       "      <td>$37199000</td>\n",
       "      <td>USA</td>\n",
       "      <td>2007</td>\n",
       "      <td>1</td>\n",
       "      <td>2</td>\n",
       "      <td>Texas</td>\n",
       "      <td>NBA2k20</td>\n",
       "    </tr>\n",
       "    <tr>\n",
       "      <th>4</th>\n",
       "      <td>James Harden</td>\n",
       "      <td>96</td>\n",
       "      <td>#13</td>\n",
       "      <td>Houston Rockets</td>\n",
       "      <td>G</td>\n",
       "      <td>08/26/89</td>\n",
       "      <td>6-5 / 1.96</td>\n",
       "      <td>220 lbs. / 99.8 kg.</td>\n",
       "      <td>$38199000</td>\n",
       "      <td>USA</td>\n",
       "      <td>2009</td>\n",
       "      <td>1</td>\n",
       "      <td>3</td>\n",
       "      <td>Arizona State</td>\n",
       "      <td>NBA2k20</td>\n",
       "    </tr>\n",
       "    <tr>\n",
       "      <th>5</th>\n",
       "      <td>Stephen Curry</td>\n",
       "      <td>95</td>\n",
       "      <td>#30</td>\n",
       "      <td>Golden State Warriors</td>\n",
       "      <td>G</td>\n",
       "      <td>03/14/88</td>\n",
       "      <td>6-3 / 1.91</td>\n",
       "      <td>185 lbs. / 83.9 kg.</td>\n",
       "      <td>$40231758</td>\n",
       "      <td>USA</td>\n",
       "      <td>2009</td>\n",
       "      <td>1</td>\n",
       "      <td>7</td>\n",
       "      <td>Davidson</td>\n",
       "      <td>NBA2k20</td>\n",
       "    </tr>\n",
       "    <tr>\n",
       "      <th>6</th>\n",
       "      <td>Anthony Davis</td>\n",
       "      <td>94</td>\n",
       "      <td>#3</td>\n",
       "      <td>Los Angeles Lakers</td>\n",
       "      <td>F-C</td>\n",
       "      <td>03/11/93</td>\n",
       "      <td>6-10 / 2.08</td>\n",
       "      <td>222 lbs. / 100.7 kg.</td>\n",
       "      <td>$27093019</td>\n",
       "      <td>USA</td>\n",
       "      <td>2012</td>\n",
       "      <td>1</td>\n",
       "      <td>1</td>\n",
       "      <td>Kentucky</td>\n",
       "      <td>NBA2k20</td>\n",
       "    </tr>\n",
       "    <tr>\n",
       "      <th>7</th>\n",
       "      <td>Paul George</td>\n",
       "      <td>93</td>\n",
       "      <td>#13</td>\n",
       "      <td>Los Angeles Clippers</td>\n",
       "      <td>F</td>\n",
       "      <td>05/02/90</td>\n",
       "      <td>6-8 / 2.03</td>\n",
       "      <td>210 lbs. / 95.3 kg.</td>\n",
       "      <td>$33005556</td>\n",
       "      <td>USA</td>\n",
       "      <td>2010</td>\n",
       "      <td>1</td>\n",
       "      <td>10</td>\n",
       "      <td>Fresno State</td>\n",
       "      <td>NBA2k20</td>\n",
       "    </tr>\n",
       "    <tr>\n",
       "      <th>8</th>\n",
       "      <td>Damian Lillard</td>\n",
       "      <td>92</td>\n",
       "      <td>#0</td>\n",
       "      <td>Portland Trail Blazers</td>\n",
       "      <td>G</td>\n",
       "      <td>07/15/90</td>\n",
       "      <td>6-2 / 1.88</td>\n",
       "      <td>195 lbs. / 88.5 kg.</td>\n",
       "      <td>$29802321</td>\n",
       "      <td>USA</td>\n",
       "      <td>2012</td>\n",
       "      <td>1</td>\n",
       "      <td>6</td>\n",
       "      <td>Weber State</td>\n",
       "      <td>NBA2k20</td>\n",
       "    </tr>\n",
       "    <tr>\n",
       "      <th>9</th>\n",
       "      <td>Joel Embiid</td>\n",
       "      <td>91</td>\n",
       "      <td>#21</td>\n",
       "      <td>Philadelphia 76ers</td>\n",
       "      <td>C</td>\n",
       "      <td>03/16/94</td>\n",
       "      <td>7-0 / 2.13</td>\n",
       "      <td>250 lbs. / 113.4 kg.</td>\n",
       "      <td>$27504630</td>\n",
       "      <td>Cameroon</td>\n",
       "      <td>2014</td>\n",
       "      <td>1</td>\n",
       "      <td>3</td>\n",
       "      <td>Kansas</td>\n",
       "      <td>NBA2k20</td>\n",
       "    </tr>\n",
       "  </tbody>\n",
       "</table>\n",
       "</div>"
      ],
      "text/plain": [
       "               full_name  rating jersey                    team position  \\\n",
       "0           LeBron James      97    #23      Los Angeles Lakers        F   \n",
       "1          Kawhi Leonard      97     #2    Los Angeles Clippers        F   \n",
       "2  Giannis Antetokounmpo      96    #34         Milwaukee Bucks      F-G   \n",
       "3           Kevin Durant      96     #7           Brooklyn Nets        F   \n",
       "4           James Harden      96    #13         Houston Rockets        G   \n",
       "5          Stephen Curry      95    #30   Golden State Warriors        G   \n",
       "6          Anthony Davis      94     #3      Los Angeles Lakers      F-C   \n",
       "7            Paul George      93    #13    Los Angeles Clippers        F   \n",
       "8         Damian Lillard      92     #0  Portland Trail Blazers        G   \n",
       "9            Joel Embiid      91    #21      Philadelphia 76ers        C   \n",
       "\n",
       "      b_day       height                weight     salary   country  \\\n",
       "0  12/30/84   6-9 / 2.06  250 lbs. / 113.4 kg.  $37436858       USA   \n",
       "1  06/29/91   6-7 / 2.01  225 lbs. / 102.1 kg.  $32742000       USA   \n",
       "2  12/06/94  6-11 / 2.11  242 lbs. / 109.8 kg.  $25842697    Greece   \n",
       "3  09/29/88  6-10 / 2.08  230 lbs. / 104.3 kg.  $37199000       USA   \n",
       "4  08/26/89   6-5 / 1.96   220 lbs. / 99.8 kg.  $38199000       USA   \n",
       "5  03/14/88   6-3 / 1.91   185 lbs. / 83.9 kg.  $40231758       USA   \n",
       "6  03/11/93  6-10 / 2.08  222 lbs. / 100.7 kg.  $27093019       USA   \n",
       "7  05/02/90   6-8 / 2.03   210 lbs. / 95.3 kg.  $33005556       USA   \n",
       "8  07/15/90   6-2 / 1.88   195 lbs. / 88.5 kg.  $29802321       USA   \n",
       "9  03/16/94   7-0 / 2.13  250 lbs. / 113.4 kg.  $27504630  Cameroon   \n",
       "\n",
       "   draft_year draft_round draft_peak          college  version  \n",
       "0        2003           1          1              NaN  NBA2k20  \n",
       "1        2011           1         15  San Diego State  NBA2k20  \n",
       "2        2013           1         15              NaN  NBA2k20  \n",
       "3        2007           1          2            Texas  NBA2k20  \n",
       "4        2009           1          3    Arizona State  NBA2k20  \n",
       "5        2009           1          7         Davidson  NBA2k20  \n",
       "6        2012           1          1         Kentucky  NBA2k20  \n",
       "7        2010           1         10     Fresno State  NBA2k20  \n",
       "8        2012           1          6      Weber State  NBA2k20  \n",
       "9        2014           1          3           Kansas  NBA2k20  "
      ]
     },
     "execution_count": 332,
     "metadata": {},
     "output_type": "execute_result"
    }
   ],
   "source": [
    "df.head(10)"
   ]
  },
  {
   "cell_type": "markdown",
   "id": "09ad9514",
   "metadata": {},
   "source": [
    "## 1.3. Print information and shape of dataset"
   ]
  },
  {
   "cell_type": "code",
   "execution_count": 333,
   "id": "617bf3d7",
   "metadata": {},
   "outputs": [
    {
     "data": {
      "text/plain": [
       "(464, 15)"
      ]
     },
     "execution_count": 333,
     "metadata": {},
     "output_type": "execute_result"
    }
   ],
   "source": [
    "df.shape"
   ]
  },
  {
   "cell_type": "markdown",
   "id": "1b73d070",
   "metadata": {},
   "source": [
    "- There are a total of 464 rows and 15 columns in the dataset"
   ]
  },
  {
   "cell_type": "code",
   "execution_count": 334,
   "id": "b80fc649",
   "metadata": {},
   "outputs": [
    {
     "name": "stdout",
     "output_type": "stream",
     "text": [
      "<class 'pandas.core.frame.DataFrame'>\n",
      "RangeIndex: 464 entries, 0 to 463\n",
      "Data columns (total 15 columns):\n",
      " #   Column       Non-Null Count  Dtype \n",
      "---  ------       --------------  ----- \n",
      " 0   full_name    464 non-null    object\n",
      " 1   rating       464 non-null    int64 \n",
      " 2   jersey       464 non-null    object\n",
      " 3   team         441 non-null    object\n",
      " 4   position     464 non-null    object\n",
      " 5   b_day        464 non-null    object\n",
      " 6   height       464 non-null    object\n",
      " 7   weight       464 non-null    object\n",
      " 8   salary       464 non-null    object\n",
      " 9   country      464 non-null    object\n",
      " 10  draft_year   464 non-null    int64 \n",
      " 11  draft_round  464 non-null    object\n",
      " 12  draft_peak   464 non-null    object\n",
      " 13  college      388 non-null    object\n",
      " 14  version      464 non-null    object\n",
      "dtypes: int64(2), object(13)\n",
      "memory usage: 54.5+ KB\n"
     ]
    }
   ],
   "source": [
    "df.info()"
   ]
  },
  {
   "cell_type": "markdown",
   "id": "f62c98a7",
   "metadata": {},
   "source": [
    "- There are 13 numerical columns and 2 categorical columns in the dataset.\n",
    "- the 'college' & 'team' columns have missing/null values."
   ]
  },
  {
   "cell_type": "markdown",
   "id": "e43022f0",
   "metadata": {},
   "source": [
    "## 1.4. Checking for unique values in each column"
   ]
  },
  {
   "cell_type": "code",
   "execution_count": 335,
   "id": "173c0bae",
   "metadata": {},
   "outputs": [
    {
     "data": {
      "text/plain": [
       "30"
      ]
     },
     "execution_count": 335,
     "metadata": {},
     "output_type": "execute_result"
    }
   ],
   "source": [
    "df['team'].nunique()"
   ]
  },
  {
   "cell_type": "code",
   "execution_count": 336,
   "id": "73dbc634",
   "metadata": {},
   "outputs": [
    {
     "data": {
      "text/plain": [
       "team\n",
       "Brooklyn Nets             19\n",
       "Milwaukee Bucks           19\n",
       "Los Angeles Lakers        18\n",
       "Dallas Mavericks          18\n",
       "Los Angeles Clippers      17\n",
       "Philadelphia 76ers        16\n",
       "Phoenix Suns              16\n",
       "Orlando Magic             15\n",
       "New Orleans Pelicans      15\n",
       "New York Knicks           15\n",
       "Indiana Pacers            15\n",
       "Toronto Raptors           15\n",
       "Chicago Bulls             15\n",
       "Denver Nuggets            15\n",
       "Oklahoma City Thunder     14\n",
       "Sacramento Kings          14\n",
       "Detroit Pistons           14\n",
       "Boston Celtics            14\n",
       "Minnesota Timberwolves    14\n",
       "Portland Trail Blazers    14\n",
       "Houston Rockets           14\n",
       "Utah Jazz                 14\n",
       "San Antonio Spurs         14\n",
       "Washington Wizards        14\n",
       "Memphis Grizzlies         13\n",
       "Miami Heat                13\n",
       "Atlanta Hawks             13\n",
       "Golden State Warriors     12\n",
       "Cleveland Cavaliers       12\n",
       "Charlotte Hornets         10\n",
       "Name: count, dtype: int64"
      ]
     },
     "execution_count": 336,
     "metadata": {},
     "output_type": "execute_result"
    }
   ],
   "source": [
    "df['team'].value_counts()"
   ]
  },
  {
   "cell_type": "markdown",
   "id": "bf19349a",
   "metadata": {},
   "source": [
    "- Team column has 30 unique teams and can't be dropped or replaced."
   ]
  },
  {
   "cell_type": "code",
   "execution_count": 337,
   "id": "55da96cb",
   "metadata": {},
   "outputs": [
    {
     "data": {
      "text/plain": [
       "array(['F', 'F-G', 'G', 'F-C', 'C', 'G-F', 'C-F'], dtype=object)"
      ]
     },
     "execution_count": 337,
     "metadata": {},
     "output_type": "execute_result"
    }
   ],
   "source": [
    "df['position'].unique()"
   ]
  },
  {
   "cell_type": "code",
   "execution_count": 338,
   "id": "0be9a81f",
   "metadata": {},
   "outputs": [
    {
     "data": {
      "text/plain": [
       "position\n",
       "G      184\n",
       "F      146\n",
       "C       53\n",
       "F-C     39\n",
       "G-F     21\n",
       "F-G     15\n",
       "C-F      6\n",
       "Name: count, dtype: int64"
      ]
     },
     "execution_count": 338,
     "metadata": {},
     "output_type": "execute_result"
    }
   ],
   "source": [
    "df['position'].value_counts()"
   ]
  },
  {
   "cell_type": "markdown",
   "id": "3cc0ed1b",
   "metadata": {},
   "source": [
    "- The position column has 7 unique positions and can't be dropped or replaced."
   ]
  },
  {
   "cell_type": "code",
   "execution_count": 339,
   "id": "b0fcd268",
   "metadata": {},
   "outputs": [
    {
     "data": {
      "text/plain": [
       "array(['6-9 / 2.06', '6-7 / 2.01', '6-11 / 2.11', '6-10 / 2.08',\n",
       "       '6-5 / 1.96', '6-3 / 1.91', '6-8 / 2.03', '6-2 / 1.88',\n",
       "       '7-0 / 2.13', '6-6 / 1.98', '7-1 / 2.16', '6-1 / 1.85',\n",
       "       '6-0 / 1.83', '6-4 / 1.93', '7-3 / 2.21', '5-11 / 1.80',\n",
       "       '5-10 / 1.78', '5-9 / 1.75', '7-4 / 2.24', '7-2 / 2.18'],\n",
       "      dtype=object)"
      ]
     },
     "execution_count": 339,
     "metadata": {},
     "output_type": "execute_result"
    }
   ],
   "source": [
    "df['height'].unique()"
   ]
  },
  {
   "cell_type": "markdown",
   "id": "5b0f2b29",
   "metadata": {},
   "source": [
    "- Height column displays both in foot and in cm.\n",
    "- To make the data simpler, we can extract only the cm values from the height column and update the height column."
   ]
  },
  {
   "cell_type": "code",
   "execution_count": 340,
   "id": "818f555c",
   "metadata": {},
   "outputs": [
    {
     "data": {
      "text/plain": [
       "array([206., 201., 211., 208., 196., 191., 203., 188., 213., 198., 216.,\n",
       "       185., 183., 193., 221., 180., 178., 175., 224., 218.])"
      ]
     },
     "execution_count": 340,
     "metadata": {},
     "output_type": "execute_result"
    }
   ],
   "source": [
    "# Extract only cm values from the height column\n",
    "df['height_cm'] = (\n",
    "    df['height']\n",
    "    .str.split(' / ')    # Split into ['feet-inches', 'meter_value.']\n",
    "    .str[1]              # Get the second part: 'meter_value.'\n",
    "    .str.rstrip('.')     # Remove trailing dots: 'meter_value'\n",
    "    .astype(float)       # Convert to float\n",
    "    * 100                # Convert meters to centimeters\n",
    ")\n",
    "df['height_cm'].astype(int)\n",
    "df['height_cm'].unique()"
   ]
  },
  {
   "cell_type": "markdown",
   "id": "0a580746",
   "metadata": {},
   "source": [
    "# 2. Dropping unnecessary columns"
   ]
  },
  {
   "cell_type": "markdown",
   "id": "e0a76d02",
   "metadata": {},
   "source": [
    "- Drop the 'college', 'jersey', and 'full_name' columns"
   ]
  },
  {
   "cell_type": "code",
   "execution_count": 341,
   "id": "dee54e2a",
   "metadata": {},
   "outputs": [
    {
     "data": {
      "text/html": [
       "<div>\n",
       "<style scoped>\n",
       "    .dataframe tbody tr th:only-of-type {\n",
       "        vertical-align: middle;\n",
       "    }\n",
       "\n",
       "    .dataframe tbody tr th {\n",
       "        vertical-align: top;\n",
       "    }\n",
       "\n",
       "    .dataframe thead th {\n",
       "        text-align: right;\n",
       "    }\n",
       "</style>\n",
       "<table border=\"1\" class=\"dataframe\">\n",
       "  <thead>\n",
       "    <tr style=\"text-align: right;\">\n",
       "      <th></th>\n",
       "      <th>rating</th>\n",
       "      <th>team</th>\n",
       "      <th>position</th>\n",
       "      <th>b_day</th>\n",
       "      <th>height</th>\n",
       "      <th>weight</th>\n",
       "      <th>salary</th>\n",
       "      <th>country</th>\n",
       "      <th>draft_year</th>\n",
       "      <th>draft_round</th>\n",
       "      <th>draft_peak</th>\n",
       "      <th>college</th>\n",
       "      <th>version</th>\n",
       "      <th>height_cm</th>\n",
       "    </tr>\n",
       "  </thead>\n",
       "  <tbody>\n",
       "    <tr>\n",
       "      <th>0</th>\n",
       "      <td>97</td>\n",
       "      <td>Los Angeles Lakers</td>\n",
       "      <td>F</td>\n",
       "      <td>12/30/84</td>\n",
       "      <td>6-9 / 2.06</td>\n",
       "      <td>250 lbs. / 113.4 kg.</td>\n",
       "      <td>$37436858</td>\n",
       "      <td>USA</td>\n",
       "      <td>2003</td>\n",
       "      <td>1</td>\n",
       "      <td>1</td>\n",
       "      <td>NaN</td>\n",
       "      <td>NBA2k20</td>\n",
       "      <td>206.0</td>\n",
       "    </tr>\n",
       "    <tr>\n",
       "      <th>1</th>\n",
       "      <td>97</td>\n",
       "      <td>Los Angeles Clippers</td>\n",
       "      <td>F</td>\n",
       "      <td>06/29/91</td>\n",
       "      <td>6-7 / 2.01</td>\n",
       "      <td>225 lbs. / 102.1 kg.</td>\n",
       "      <td>$32742000</td>\n",
       "      <td>USA</td>\n",
       "      <td>2011</td>\n",
       "      <td>1</td>\n",
       "      <td>15</td>\n",
       "      <td>San Diego State</td>\n",
       "      <td>NBA2k20</td>\n",
       "      <td>201.0</td>\n",
       "    </tr>\n",
       "    <tr>\n",
       "      <th>2</th>\n",
       "      <td>96</td>\n",
       "      <td>Milwaukee Bucks</td>\n",
       "      <td>F-G</td>\n",
       "      <td>12/06/94</td>\n",
       "      <td>6-11 / 2.11</td>\n",
       "      <td>242 lbs. / 109.8 kg.</td>\n",
       "      <td>$25842697</td>\n",
       "      <td>Greece</td>\n",
       "      <td>2013</td>\n",
       "      <td>1</td>\n",
       "      <td>15</td>\n",
       "      <td>NaN</td>\n",
       "      <td>NBA2k20</td>\n",
       "      <td>211.0</td>\n",
       "    </tr>\n",
       "    <tr>\n",
       "      <th>3</th>\n",
       "      <td>96</td>\n",
       "      <td>Brooklyn Nets</td>\n",
       "      <td>F</td>\n",
       "      <td>09/29/88</td>\n",
       "      <td>6-10 / 2.08</td>\n",
       "      <td>230 lbs. / 104.3 kg.</td>\n",
       "      <td>$37199000</td>\n",
       "      <td>USA</td>\n",
       "      <td>2007</td>\n",
       "      <td>1</td>\n",
       "      <td>2</td>\n",
       "      <td>Texas</td>\n",
       "      <td>NBA2k20</td>\n",
       "      <td>208.0</td>\n",
       "    </tr>\n",
       "    <tr>\n",
       "      <th>4</th>\n",
       "      <td>96</td>\n",
       "      <td>Houston Rockets</td>\n",
       "      <td>G</td>\n",
       "      <td>08/26/89</td>\n",
       "      <td>6-5 / 1.96</td>\n",
       "      <td>220 lbs. / 99.8 kg.</td>\n",
       "      <td>$38199000</td>\n",
       "      <td>USA</td>\n",
       "      <td>2009</td>\n",
       "      <td>1</td>\n",
       "      <td>3</td>\n",
       "      <td>Arizona State</td>\n",
       "      <td>NBA2k20</td>\n",
       "      <td>196.0</td>\n",
       "    </tr>\n",
       "    <tr>\n",
       "      <th>5</th>\n",
       "      <td>95</td>\n",
       "      <td>Golden State Warriors</td>\n",
       "      <td>G</td>\n",
       "      <td>03/14/88</td>\n",
       "      <td>6-3 / 1.91</td>\n",
       "      <td>185 lbs. / 83.9 kg.</td>\n",
       "      <td>$40231758</td>\n",
       "      <td>USA</td>\n",
       "      <td>2009</td>\n",
       "      <td>1</td>\n",
       "      <td>7</td>\n",
       "      <td>Davidson</td>\n",
       "      <td>NBA2k20</td>\n",
       "      <td>191.0</td>\n",
       "    </tr>\n",
       "    <tr>\n",
       "      <th>6</th>\n",
       "      <td>94</td>\n",
       "      <td>Los Angeles Lakers</td>\n",
       "      <td>F-C</td>\n",
       "      <td>03/11/93</td>\n",
       "      <td>6-10 / 2.08</td>\n",
       "      <td>222 lbs. / 100.7 kg.</td>\n",
       "      <td>$27093019</td>\n",
       "      <td>USA</td>\n",
       "      <td>2012</td>\n",
       "      <td>1</td>\n",
       "      <td>1</td>\n",
       "      <td>Kentucky</td>\n",
       "      <td>NBA2k20</td>\n",
       "      <td>208.0</td>\n",
       "    </tr>\n",
       "    <tr>\n",
       "      <th>7</th>\n",
       "      <td>93</td>\n",
       "      <td>Los Angeles Clippers</td>\n",
       "      <td>F</td>\n",
       "      <td>05/02/90</td>\n",
       "      <td>6-8 / 2.03</td>\n",
       "      <td>210 lbs. / 95.3 kg.</td>\n",
       "      <td>$33005556</td>\n",
       "      <td>USA</td>\n",
       "      <td>2010</td>\n",
       "      <td>1</td>\n",
       "      <td>10</td>\n",
       "      <td>Fresno State</td>\n",
       "      <td>NBA2k20</td>\n",
       "      <td>203.0</td>\n",
       "    </tr>\n",
       "    <tr>\n",
       "      <th>8</th>\n",
       "      <td>92</td>\n",
       "      <td>Portland Trail Blazers</td>\n",
       "      <td>G</td>\n",
       "      <td>07/15/90</td>\n",
       "      <td>6-2 / 1.88</td>\n",
       "      <td>195 lbs. / 88.5 kg.</td>\n",
       "      <td>$29802321</td>\n",
       "      <td>USA</td>\n",
       "      <td>2012</td>\n",
       "      <td>1</td>\n",
       "      <td>6</td>\n",
       "      <td>Weber State</td>\n",
       "      <td>NBA2k20</td>\n",
       "      <td>188.0</td>\n",
       "    </tr>\n",
       "    <tr>\n",
       "      <th>9</th>\n",
       "      <td>91</td>\n",
       "      <td>Philadelphia 76ers</td>\n",
       "      <td>C</td>\n",
       "      <td>03/16/94</td>\n",
       "      <td>7-0 / 2.13</td>\n",
       "      <td>250 lbs. / 113.4 kg.</td>\n",
       "      <td>$27504630</td>\n",
       "      <td>Cameroon</td>\n",
       "      <td>2014</td>\n",
       "      <td>1</td>\n",
       "      <td>3</td>\n",
       "      <td>Kansas</td>\n",
       "      <td>NBA2k20</td>\n",
       "      <td>213.0</td>\n",
       "    </tr>\n",
       "  </tbody>\n",
       "</table>\n",
       "</div>"
      ],
      "text/plain": [
       "   rating                    team position     b_day       height  \\\n",
       "0      97      Los Angeles Lakers        F  12/30/84   6-9 / 2.06   \n",
       "1      97    Los Angeles Clippers        F  06/29/91   6-7 / 2.01   \n",
       "2      96         Milwaukee Bucks      F-G  12/06/94  6-11 / 2.11   \n",
       "3      96           Brooklyn Nets        F  09/29/88  6-10 / 2.08   \n",
       "4      96         Houston Rockets        G  08/26/89   6-5 / 1.96   \n",
       "5      95   Golden State Warriors        G  03/14/88   6-3 / 1.91   \n",
       "6      94      Los Angeles Lakers      F-C  03/11/93  6-10 / 2.08   \n",
       "7      93    Los Angeles Clippers        F  05/02/90   6-8 / 2.03   \n",
       "8      92  Portland Trail Blazers        G  07/15/90   6-2 / 1.88   \n",
       "9      91      Philadelphia 76ers        C  03/16/94   7-0 / 2.13   \n",
       "\n",
       "                 weight     salary   country  draft_year draft_round  \\\n",
       "0  250 lbs. / 113.4 kg.  $37436858       USA        2003           1   \n",
       "1  225 lbs. / 102.1 kg.  $32742000       USA        2011           1   \n",
       "2  242 lbs. / 109.8 kg.  $25842697    Greece        2013           1   \n",
       "3  230 lbs. / 104.3 kg.  $37199000       USA        2007           1   \n",
       "4   220 lbs. / 99.8 kg.  $38199000       USA        2009           1   \n",
       "5   185 lbs. / 83.9 kg.  $40231758       USA        2009           1   \n",
       "6  222 lbs. / 100.7 kg.  $27093019       USA        2012           1   \n",
       "7   210 lbs. / 95.3 kg.  $33005556       USA        2010           1   \n",
       "8   195 lbs. / 88.5 kg.  $29802321       USA        2012           1   \n",
       "9  250 lbs. / 113.4 kg.  $27504630  Cameroon        2014           1   \n",
       "\n",
       "  draft_peak          college  version  height_cm  \n",
       "0          1              NaN  NBA2k20      206.0  \n",
       "1         15  San Diego State  NBA2k20      201.0  \n",
       "2         15              NaN  NBA2k20      211.0  \n",
       "3          2            Texas  NBA2k20      208.0  \n",
       "4          3    Arizona State  NBA2k20      196.0  \n",
       "5          7         Davidson  NBA2k20      191.0  \n",
       "6          1         Kentucky  NBA2k20      208.0  \n",
       "7         10     Fresno State  NBA2k20      203.0  \n",
       "8          6      Weber State  NBA2k20      188.0  \n",
       "9          3           Kansas  NBA2k20      213.0  "
      ]
     },
     "execution_count": 341,
     "metadata": {},
     "output_type": "execute_result"
    }
   ],
   "source": [
    "cols_to_drop = ['jersey', 'full_name']\n",
    "df.drop(columns=cols_to_drop, inplace=True)\n",
    "df.head(10)"
   ]
  },
  {
   "cell_type": "markdown",
   "id": "2f944278",
   "metadata": {},
   "source": [
    "# 3. Preprocessing"
   ]
  },
  {
   "cell_type": "markdown",
   "id": "afb30a77",
   "metadata": {},
   "source": [
    "## 3.1. Filling missing values in 'team' column"
   ]
  },
  {
   "cell_type": "code",
   "execution_count": 342,
   "id": "06cf22b3",
   "metadata": {},
   "outputs": [
    {
     "data": {
      "text/html": [
       "<div>\n",
       "<style scoped>\n",
       "    .dataframe tbody tr th:only-of-type {\n",
       "        vertical-align: middle;\n",
       "    }\n",
       "\n",
       "    .dataframe tbody tr th {\n",
       "        vertical-align: top;\n",
       "    }\n",
       "\n",
       "    .dataframe thead th {\n",
       "        text-align: right;\n",
       "    }\n",
       "</style>\n",
       "<table border=\"1\" class=\"dataframe\">\n",
       "  <thead>\n",
       "    <tr style=\"text-align: right;\">\n",
       "      <th></th>\n",
       "      <th>team</th>\n",
       "    </tr>\n",
       "  </thead>\n",
       "  <tbody>\n",
       "    <tr>\n",
       "      <th>0</th>\n",
       "      <td>Los Angeles Lakers</td>\n",
       "    </tr>\n",
       "    <tr>\n",
       "      <th>1</th>\n",
       "      <td>Los Angeles Clippers</td>\n",
       "    </tr>\n",
       "    <tr>\n",
       "      <th>2</th>\n",
       "      <td>Milwaukee Bucks</td>\n",
       "    </tr>\n",
       "    <tr>\n",
       "      <th>3</th>\n",
       "      <td>Brooklyn Nets</td>\n",
       "    </tr>\n",
       "    <tr>\n",
       "      <th>4</th>\n",
       "      <td>Houston Rockets</td>\n",
       "    </tr>\n",
       "    <tr>\n",
       "      <th>...</th>\n",
       "      <td>...</td>\n",
       "    </tr>\n",
       "    <tr>\n",
       "      <th>459</th>\n",
       "      <td>Oklahoma City Thunder</td>\n",
       "    </tr>\n",
       "    <tr>\n",
       "      <th>460</th>\n",
       "      <td>Washington Wizards</td>\n",
       "    </tr>\n",
       "    <tr>\n",
       "      <th>461</th>\n",
       "      <td>Utah Jazz</td>\n",
       "    </tr>\n",
       "    <tr>\n",
       "      <th>462</th>\n",
       "      <td>Toronto Raptors</td>\n",
       "    </tr>\n",
       "    <tr>\n",
       "      <th>463</th>\n",
       "      <td>Dallas Mavericks</td>\n",
       "    </tr>\n",
       "  </tbody>\n",
       "</table>\n",
       "<p>464 rows × 1 columns</p>\n",
       "</div>"
      ],
      "text/plain": [
       "                      team\n",
       "0       Los Angeles Lakers\n",
       "1     Los Angeles Clippers\n",
       "2          Milwaukee Bucks\n",
       "3            Brooklyn Nets\n",
       "4          Houston Rockets\n",
       "..                     ...\n",
       "459  Oklahoma City Thunder\n",
       "460     Washington Wizards\n",
       "461              Utah Jazz\n",
       "462        Toronto Raptors\n",
       "463       Dallas Mavericks\n",
       "\n",
       "[464 rows x 1 columns]"
      ]
     },
     "execution_count": 342,
     "metadata": {},
     "output_type": "execute_result"
    }
   ],
   "source": [
    "df['team'].fillna('Free Agent', inplace=True)\n",
    "df[['team']]"
   ]
  },
  {
   "cell_type": "code",
   "execution_count": 343,
   "id": "7b3f4fd7",
   "metadata": {},
   "outputs": [
    {
     "data": {
      "text/plain": [
       "team\n",
       "Free Agent                23\n",
       "Brooklyn Nets             19\n",
       "Milwaukee Bucks           19\n",
       "Dallas Mavericks          18\n",
       "Los Angeles Lakers        18\n",
       "Los Angeles Clippers      17\n",
       "Philadelphia 76ers        16\n",
       "Phoenix Suns              16\n",
       "Orlando Magic             15\n",
       "New Orleans Pelicans      15\n",
       "New York Knicks           15\n",
       "Indiana Pacers            15\n",
       "Toronto Raptors           15\n",
       "Chicago Bulls             15\n",
       "Denver Nuggets            15\n",
       "Oklahoma City Thunder     14\n",
       "Sacramento Kings          14\n",
       "Utah Jazz                 14\n",
       "Boston Celtics            14\n",
       "Minnesota Timberwolves    14\n",
       "Houston Rockets           14\n",
       "Portland Trail Blazers    14\n",
       "Detroit Pistons           14\n",
       "Washington Wizards        14\n",
       "San Antonio Spurs         14\n",
       "Memphis Grizzlies         13\n",
       "Miami Heat                13\n",
       "Atlanta Hawks             13\n",
       "Golden State Warriors     12\n",
       "Cleveland Cavaliers       12\n",
       "Charlotte Hornets         10\n",
       "Name: count, dtype: int64"
      ]
     },
     "execution_count": 343,
     "metadata": {},
     "output_type": "execute_result"
    }
   ],
   "source": [
    "df['team'].value_counts()"
   ]
  },
  {
   "cell_type": "code",
   "execution_count": 344,
   "id": "a0806cd4",
   "metadata": {},
   "outputs": [
    {
     "data": {
      "text/plain": [
       "np.int64(0)"
      ]
     },
     "execution_count": 344,
     "metadata": {},
     "output_type": "execute_result"
    }
   ],
   "source": [
    "df['team'].isnull().sum()"
   ]
  },
  {
   "cell_type": "markdown",
   "id": "7fedbcea",
   "metadata": {},
   "source": [
    "## 3.2. Filling missing values in 'college' column"
   ]
  },
  {
   "cell_type": "markdown",
   "id": "0d37c1b5",
   "metadata": {},
   "source": [
    "## 3.3. Splitting & converting birthdate column into birthyear by using the version column"
   ]
  },
  {
   "cell_type": "code",
   "execution_count": 345,
   "id": "3cc9f426",
   "metadata": {},
   "outputs": [
    {
     "data": {
      "text/plain": [
       "0    12/30/84\n",
       "1    06/29/91\n",
       "2    12/06/94\n",
       "3    09/29/88\n",
       "4    08/26/89\n",
       "5    03/14/88\n",
       "6    03/11/93\n",
       "7    05/02/90\n",
       "8    07/15/90\n",
       "9    03/16/94\n",
       "Name: b_day, dtype: object"
      ]
     },
     "execution_count": 345,
     "metadata": {},
     "output_type": "execute_result"
    }
   ],
   "source": [
    "df['b_day'].head(10)"
   ]
  },
  {
   "cell_type": "code",
   "execution_count": 346,
   "id": "fd50265f",
   "metadata": {},
   "outputs": [
    {
     "data": {
      "text/plain": [
       "array([1984, 1991, 1994, 1988, 1989, 1993, 1990, 1992, 1995, 1996, 1999,\n",
       "       1985, 1987, 1997, 1998, 1986, 1900, 1980, 1981, 1982])"
      ]
     },
     "execution_count": 346,
     "metadata": {},
     "output_type": "execute_result"
    }
   ],
   "source": [
    "# keep only the year from the 'b_day' column\n",
    "df['b_year'] = df['b_day'].str.split('/').str[2].astype(int) + 1900\n",
    "df['b_year'].unique()"
   ]
  },
  {
   "cell_type": "code",
   "execution_count": 347,
   "id": "ad704edd",
   "metadata": {},
   "outputs": [
    {
     "data": {
      "text/html": [
       "<div>\n",
       "<style scoped>\n",
       "    .dataframe tbody tr th:only-of-type {\n",
       "        vertical-align: middle;\n",
       "    }\n",
       "\n",
       "    .dataframe tbody tr th {\n",
       "        vertical-align: top;\n",
       "    }\n",
       "\n",
       "    .dataframe thead th {\n",
       "        text-align: right;\n",
       "    }\n",
       "</style>\n",
       "<table border=\"1\" class=\"dataframe\">\n",
       "  <thead>\n",
       "    <tr style=\"text-align: right;\">\n",
       "      <th></th>\n",
       "      <th>rating</th>\n",
       "      <th>team</th>\n",
       "      <th>position</th>\n",
       "      <th>b_day</th>\n",
       "      <th>height</th>\n",
       "      <th>weight</th>\n",
       "      <th>salary</th>\n",
       "      <th>country</th>\n",
       "      <th>draft_year</th>\n",
       "      <th>draft_round</th>\n",
       "      <th>draft_peak</th>\n",
       "      <th>college</th>\n",
       "      <th>version</th>\n",
       "      <th>height_cm</th>\n",
       "      <th>b_year</th>\n",
       "    </tr>\n",
       "  </thead>\n",
       "  <tbody>\n",
       "    <tr>\n",
       "      <th>0</th>\n",
       "      <td>97</td>\n",
       "      <td>Los Angeles Lakers</td>\n",
       "      <td>F</td>\n",
       "      <td>12/30/84</td>\n",
       "      <td>6-9 / 2.06</td>\n",
       "      <td>250 lbs. / 113.4 kg.</td>\n",
       "      <td>$37436858</td>\n",
       "      <td>USA</td>\n",
       "      <td>2003</td>\n",
       "      <td>1</td>\n",
       "      <td>1</td>\n",
       "      <td>NaN</td>\n",
       "      <td>NBA2k20</td>\n",
       "      <td>206.0</td>\n",
       "      <td>1984</td>\n",
       "    </tr>\n",
       "    <tr>\n",
       "      <th>1</th>\n",
       "      <td>97</td>\n",
       "      <td>Los Angeles Clippers</td>\n",
       "      <td>F</td>\n",
       "      <td>06/29/91</td>\n",
       "      <td>6-7 / 2.01</td>\n",
       "      <td>225 lbs. / 102.1 kg.</td>\n",
       "      <td>$32742000</td>\n",
       "      <td>USA</td>\n",
       "      <td>2011</td>\n",
       "      <td>1</td>\n",
       "      <td>15</td>\n",
       "      <td>San Diego State</td>\n",
       "      <td>NBA2k20</td>\n",
       "      <td>201.0</td>\n",
       "      <td>1991</td>\n",
       "    </tr>\n",
       "    <tr>\n",
       "      <th>2</th>\n",
       "      <td>96</td>\n",
       "      <td>Milwaukee Bucks</td>\n",
       "      <td>F-G</td>\n",
       "      <td>12/06/94</td>\n",
       "      <td>6-11 / 2.11</td>\n",
       "      <td>242 lbs. / 109.8 kg.</td>\n",
       "      <td>$25842697</td>\n",
       "      <td>Greece</td>\n",
       "      <td>2013</td>\n",
       "      <td>1</td>\n",
       "      <td>15</td>\n",
       "      <td>NaN</td>\n",
       "      <td>NBA2k20</td>\n",
       "      <td>211.0</td>\n",
       "      <td>1994</td>\n",
       "    </tr>\n",
       "    <tr>\n",
       "      <th>3</th>\n",
       "      <td>96</td>\n",
       "      <td>Brooklyn Nets</td>\n",
       "      <td>F</td>\n",
       "      <td>09/29/88</td>\n",
       "      <td>6-10 / 2.08</td>\n",
       "      <td>230 lbs. / 104.3 kg.</td>\n",
       "      <td>$37199000</td>\n",
       "      <td>USA</td>\n",
       "      <td>2007</td>\n",
       "      <td>1</td>\n",
       "      <td>2</td>\n",
       "      <td>Texas</td>\n",
       "      <td>NBA2k20</td>\n",
       "      <td>208.0</td>\n",
       "      <td>1988</td>\n",
       "    </tr>\n",
       "    <tr>\n",
       "      <th>4</th>\n",
       "      <td>96</td>\n",
       "      <td>Houston Rockets</td>\n",
       "      <td>G</td>\n",
       "      <td>08/26/89</td>\n",
       "      <td>6-5 / 1.96</td>\n",
       "      <td>220 lbs. / 99.8 kg.</td>\n",
       "      <td>$38199000</td>\n",
       "      <td>USA</td>\n",
       "      <td>2009</td>\n",
       "      <td>1</td>\n",
       "      <td>3</td>\n",
       "      <td>Arizona State</td>\n",
       "      <td>NBA2k20</td>\n",
       "      <td>196.0</td>\n",
       "      <td>1989</td>\n",
       "    </tr>\n",
       "  </tbody>\n",
       "</table>\n",
       "</div>"
      ],
      "text/plain": [
       "   rating                  team position     b_day       height  \\\n",
       "0      97    Los Angeles Lakers        F  12/30/84   6-9 / 2.06   \n",
       "1      97  Los Angeles Clippers        F  06/29/91   6-7 / 2.01   \n",
       "2      96       Milwaukee Bucks      F-G  12/06/94  6-11 / 2.11   \n",
       "3      96         Brooklyn Nets        F  09/29/88  6-10 / 2.08   \n",
       "4      96       Houston Rockets        G  08/26/89   6-5 / 1.96   \n",
       "\n",
       "                 weight     salary country  draft_year draft_round draft_peak  \\\n",
       "0  250 lbs. / 113.4 kg.  $37436858     USA        2003           1          1   \n",
       "1  225 lbs. / 102.1 kg.  $32742000     USA        2011           1         15   \n",
       "2  242 lbs. / 109.8 kg.  $25842697  Greece        2013           1         15   \n",
       "3  230 lbs. / 104.3 kg.  $37199000     USA        2007           1          2   \n",
       "4   220 lbs. / 99.8 kg.  $38199000     USA        2009           1          3   \n",
       "\n",
       "           college  version  height_cm  b_year  \n",
       "0              NaN  NBA2k20      206.0    1984  \n",
       "1  San Diego State  NBA2k20      201.0    1991  \n",
       "2              NaN  NBA2k20      211.0    1994  \n",
       "3            Texas  NBA2k20      208.0    1988  \n",
       "4    Arizona State  NBA2k20      196.0    1989  "
      ]
     },
     "execution_count": 347,
     "metadata": {},
     "output_type": "execute_result"
    }
   ],
   "source": [
    "df.head()"
   ]
  },
  {
   "cell_type": "markdown",
   "id": "6f494579",
   "metadata": {},
   "source": [
    "## 3.4. Splitting game version to extract the year"
   ]
  },
  {
   "cell_type": "code",
   "execution_count": 348,
   "id": "e9e84bbd",
   "metadata": {},
   "outputs": [
    {
     "data": {
      "text/plain": [
       "array(['NBA2k20', 'NBA2k21', 'NBA2k22'], dtype=object)"
      ]
     },
     "execution_count": 348,
     "metadata": {},
     "output_type": "execute_result"
    }
   ],
   "source": [
    "df['version'].unique()"
   ]
  },
  {
   "cell_type": "code",
   "execution_count": 349,
   "id": "43be1d5d",
   "metadata": {},
   "outputs": [
    {
     "data": {
      "text/plain": [
       "array([20, 21, 22])"
      ]
     },
     "execution_count": 349,
     "metadata": {},
     "output_type": "execute_result"
    }
   ],
   "source": [
    "df['version_split'] = df['version'].str.split('k', expand=True)[1].astype(int)\n",
    "df['version_split'].unique()"
   ]
  },
  {
   "cell_type": "markdown",
   "id": "299ae5ba",
   "metadata": {},
   "source": [
    "- Then convert the 'version_split' to get the release date year"
   ]
  },
  {
   "cell_type": "code",
   "execution_count": 350,
   "id": "d8c79987",
   "metadata": {},
   "outputs": [
    {
     "data": {
      "text/plain": [
       "array([2020, 2021, 2022])"
      ]
     },
     "execution_count": 350,
     "metadata": {},
     "output_type": "execute_result"
    }
   ],
   "source": [
    "df['version_split'] = df['version_split'] + 2000\n",
    "df['version_split'].unique()"
   ]
  },
  {
   "cell_type": "markdown",
   "id": "8027c474",
   "metadata": {},
   "source": [
    "## 3.5. Adding Age column by subtracting birthyear from current game version"
   ]
  },
  {
   "cell_type": "code",
   "execution_count": 351,
   "id": "f69aa41e",
   "metadata": {},
   "outputs": [
    {
     "data": {
      "text/plain": [
       "0    36\n",
       "1    29\n",
       "2    26\n",
       "3    32\n",
       "4    31\n",
       "5    32\n",
       "6    27\n",
       "7    30\n",
       "8    30\n",
       "9    26\n",
       "Name: p_age, dtype: int64"
      ]
     },
     "execution_count": 351,
     "metadata": {},
     "output_type": "execute_result"
    }
   ],
   "source": [
    "df['p_age'] = df['version_split'] - df['b_year']\n",
    "df['p_age'].head(10)"
   ]
  },
  {
   "cell_type": "markdown",
   "id": "e6e6b411",
   "metadata": {},
   "source": [
    "- This way, we've finally subtracted each player's current age as of the game's version."
   ]
  },
  {
   "cell_type": "markdown",
   "id": "b39aa033",
   "metadata": {},
   "source": [
    "## 3.6. Split weight column & extract only the kg values"
   ]
  },
  {
   "cell_type": "code",
   "execution_count": 352,
   "id": "6f324d95",
   "metadata": {},
   "outputs": [
    {
     "data": {
      "text/plain": [
       "array([113.4, 102.1, 109.8, 104.3,  99.8,  83.9, 100.7,  95.3,  88.5,\n",
       "        81.6, 114.8,  86.2,  93. , 112.5, 108. , 114.3,  95.7,  78. ,\n",
       "       103. , 111.6,  93.9,  89.4,  96.6,  87.5, 108.9,  77.6,  93.4,\n",
       "       122.5,  92.5, 102.5,  82.1,  98.4,  79.4,  96.2, 100.2,  91.2,\n",
       "       106.6,  98. , 101.2, 117.9, 131.5, 120.2, 115.7, 110. , 108.4,\n",
       "       128.8,  88.9, 104.8,  94.8,  94.3, 118.8,  89.8,  90.7,  78.9,\n",
       "       110.2, 106.1,  91.6, 109.3, 117.5,  84.4,  97.5,  86.6,  77.1,\n",
       "        92.1, 101.6,  97.1,  90.3,  87.1, 105.2, 111.1, 103.9,  84.8,\n",
       "       107.5, 112. ,  99.3,  80.7,  98.9, 107. ,  83.5,  85.7, 104. ,\n",
       "       112.9,  88. ,  81.2])"
      ]
     },
     "execution_count": 352,
     "metadata": {},
     "output_type": "execute_result"
    }
   ],
   "source": [
    "df['weight_kg'] = (\n",
    "    df['weight']\n",
    "    .str.split(' / ')\n",
    "    .str[1]  # Get the second part (kg value)\n",
    "    .str.replace(r' kg\\.?', '', regex=True)  # Remove 'kg' with optional period\n",
    "    .astype(float)\n",
    ")\n",
    "\n",
    "df['weight_kg'].unique()"
   ]
  },
  {
   "cell_type": "markdown",
   "id": "00de0526",
   "metadata": {},
   "source": [
    "## 3.7. Remove '$' sign from salary column"
   ]
  },
  {
   "cell_type": "code",
   "execution_count": 353,
   "id": "e8378caa",
   "metadata": {},
   "outputs": [
    {
     "data": {
      "text/html": [
       "<div>\n",
       "<style scoped>\n",
       "    .dataframe tbody tr th:only-of-type {\n",
       "        vertical-align: middle;\n",
       "    }\n",
       "\n",
       "    .dataframe tbody tr th {\n",
       "        vertical-align: top;\n",
       "    }\n",
       "\n",
       "    .dataframe thead th {\n",
       "        text-align: right;\n",
       "    }\n",
       "</style>\n",
       "<table border=\"1\" class=\"dataframe\">\n",
       "  <thead>\n",
       "    <tr style=\"text-align: right;\">\n",
       "      <th></th>\n",
       "      <th>salary_usd</th>\n",
       "    </tr>\n",
       "  </thead>\n",
       "  <tbody>\n",
       "    <tr>\n",
       "      <th>0</th>\n",
       "      <td>37436858.0</td>\n",
       "    </tr>\n",
       "    <tr>\n",
       "      <th>1</th>\n",
       "      <td>32742000.0</td>\n",
       "    </tr>\n",
       "    <tr>\n",
       "      <th>2</th>\n",
       "      <td>25842697.0</td>\n",
       "    </tr>\n",
       "    <tr>\n",
       "      <th>3</th>\n",
       "      <td>37199000.0</td>\n",
       "    </tr>\n",
       "    <tr>\n",
       "      <th>4</th>\n",
       "      <td>38199000.0</td>\n",
       "    </tr>\n",
       "    <tr>\n",
       "      <th>5</th>\n",
       "      <td>40231758.0</td>\n",
       "    </tr>\n",
       "    <tr>\n",
       "      <th>6</th>\n",
       "      <td>27093019.0</td>\n",
       "    </tr>\n",
       "    <tr>\n",
       "      <th>7</th>\n",
       "      <td>33005556.0</td>\n",
       "    </tr>\n",
       "    <tr>\n",
       "      <th>8</th>\n",
       "      <td>29802321.0</td>\n",
       "    </tr>\n",
       "    <tr>\n",
       "      <th>9</th>\n",
       "      <td>27504630.0</td>\n",
       "    </tr>\n",
       "  </tbody>\n",
       "</table>\n",
       "</div>"
      ],
      "text/plain": [
       "   salary_usd\n",
       "0  37436858.0\n",
       "1  32742000.0\n",
       "2  25842697.0\n",
       "3  37199000.0\n",
       "4  38199000.0\n",
       "5  40231758.0\n",
       "6  27093019.0\n",
       "7  33005556.0\n",
       "8  29802321.0\n",
       "9  27504630.0"
      ]
     },
     "execution_count": 353,
     "metadata": {},
     "output_type": "execute_result"
    }
   ],
   "source": [
    "df['salary_usd'] = df['salary'].str.replace(r'\\$', '', regex=True).astype(float)\n",
    "df[['salary_usd']].head(10)"
   ]
  },
  {
   "cell_type": "markdown",
   "id": "1980077d",
   "metadata": {},
   "source": [
    "## 3.8. Replacing 'undrafted' in 'draft_peak' column with 0"
   ]
  },
  {
   "cell_type": "code",
   "execution_count": 354,
   "id": "297d7ddf",
   "metadata": {},
   "outputs": [
    {
     "data": {
      "text/plain": [
       "array(['1', '15', '2', '3', '7', '10', '6', '41', '4', '11', '30', '27',\n",
       "       '13', '9', '5', '35', '17', '16', '18', '25', '19', '24', '39',\n",
       "       '45', '31', '36', '32', '48', '12', '38', '47', '8', '33',\n",
       "       'Undrafted', '40', '14', '22', '42', '46', '20', '29', '26', '51',\n",
       "       '43', '34', '21', '23', '60', '44', '28', '37', '55', '49', '50',\n",
       "       '52', '54', '58'], dtype=object)"
      ]
     },
     "execution_count": 354,
     "metadata": {},
     "output_type": "execute_result"
    }
   ],
   "source": [
    "df['draft_peak'].unique()"
   ]
  },
  {
   "cell_type": "code",
   "execution_count": 355,
   "id": "9117f5bd",
   "metadata": {},
   "outputs": [
    {
     "data": {
      "text/plain": [
       "array([ 1, 15,  2,  3,  7, 10,  6, 41,  4, 11, 30, 27, 13,  9,  5, 35, 17,\n",
       "       16, 18, 25, 19, 24, 39, 45, 31, 36, 32, 48, 12, 38, 47,  8, 33,  0,\n",
       "       40, 14, 22, 42, 46, 20, 29, 26, 51, 43, 34, 21, 23, 60, 44, 28, 37,\n",
       "       55, 49, 50, 52, 54, 58])"
      ]
     },
     "execution_count": 355,
     "metadata": {},
     "output_type": "execute_result"
    }
   ],
   "source": [
    "df['draft_peak'].replace('Undrafted', \"0\", inplace=True)\n",
    "df['draft_peak'] = df['draft_peak'].astype(int)\n",
    "df['draft_peak'].unique()"
   ]
  },
  {
   "cell_type": "markdown",
   "id": "7ad2ebaa",
   "metadata": {},
   "source": [
    "## 3.8. Replacing 'undrafted' in 'draft_round' to 0"
   ]
  },
  {
   "cell_type": "code",
   "execution_count": 356,
   "id": "ee8e3955",
   "metadata": {},
   "outputs": [
    {
     "data": {
      "text/plain": [
       "array(['1', '2', 'Undrafted'], dtype=object)"
      ]
     },
     "execution_count": 356,
     "metadata": {},
     "output_type": "execute_result"
    }
   ],
   "source": [
    "df['draft_round'].unique()"
   ]
  },
  {
   "cell_type": "code",
   "execution_count": 357,
   "id": "024df9b7",
   "metadata": {},
   "outputs": [
    {
     "data": {
      "text/plain": [
       "array([1, 2, 0])"
      ]
     },
     "execution_count": 357,
     "metadata": {},
     "output_type": "execute_result"
    }
   ],
   "source": [
    "df['draft_round'] = df['draft_round'].replace('Undrafted', \"0\")\n",
    "df['draft_round'] = df['draft_round'].astype(int)\n",
    "df['draft_round'].unique()"
   ]
  },
  {
   "cell_type": "markdown",
   "id": "3ead455b",
   "metadata": {},
   "source": [
    "## 3.8. Dropping unnecessary columns\n",
    "- Dropping all the columns I cleaned and we don't need for our model."
   ]
  },
  {
   "cell_type": "code",
   "execution_count": 358,
   "id": "b0cf88c0",
   "metadata": {},
   "outputs": [
    {
     "data": {
      "text/html": [
       "<div>\n",
       "<style scoped>\n",
       "    .dataframe tbody tr th:only-of-type {\n",
       "        vertical-align: middle;\n",
       "    }\n",
       "\n",
       "    .dataframe tbody tr th {\n",
       "        vertical-align: top;\n",
       "    }\n",
       "\n",
       "    .dataframe thead th {\n",
       "        text-align: right;\n",
       "    }\n",
       "</style>\n",
       "<table border=\"1\" class=\"dataframe\">\n",
       "  <thead>\n",
       "    <tr style=\"text-align: right;\">\n",
       "      <th></th>\n",
       "      <th>rating</th>\n",
       "      <th>team</th>\n",
       "      <th>position</th>\n",
       "      <th>draft_year</th>\n",
       "      <th>draft_round</th>\n",
       "      <th>draft_peak</th>\n",
       "      <th>height_cm</th>\n",
       "      <th>version_split</th>\n",
       "      <th>p_age</th>\n",
       "      <th>weight_kg</th>\n",
       "      <th>salary_usd</th>\n",
       "    </tr>\n",
       "  </thead>\n",
       "  <tbody>\n",
       "    <tr>\n",
       "      <th>0</th>\n",
       "      <td>97</td>\n",
       "      <td>Los Angeles Lakers</td>\n",
       "      <td>F</td>\n",
       "      <td>2003</td>\n",
       "      <td>1</td>\n",
       "      <td>1</td>\n",
       "      <td>206.0</td>\n",
       "      <td>2020</td>\n",
       "      <td>36</td>\n",
       "      <td>113.4</td>\n",
       "      <td>37436858.0</td>\n",
       "    </tr>\n",
       "    <tr>\n",
       "      <th>1</th>\n",
       "      <td>97</td>\n",
       "      <td>Los Angeles Clippers</td>\n",
       "      <td>F</td>\n",
       "      <td>2011</td>\n",
       "      <td>1</td>\n",
       "      <td>15</td>\n",
       "      <td>201.0</td>\n",
       "      <td>2020</td>\n",
       "      <td>29</td>\n",
       "      <td>102.1</td>\n",
       "      <td>32742000.0</td>\n",
       "    </tr>\n",
       "    <tr>\n",
       "      <th>2</th>\n",
       "      <td>96</td>\n",
       "      <td>Milwaukee Bucks</td>\n",
       "      <td>F-G</td>\n",
       "      <td>2013</td>\n",
       "      <td>1</td>\n",
       "      <td>15</td>\n",
       "      <td>211.0</td>\n",
       "      <td>2020</td>\n",
       "      <td>26</td>\n",
       "      <td>109.8</td>\n",
       "      <td>25842697.0</td>\n",
       "    </tr>\n",
       "    <tr>\n",
       "      <th>3</th>\n",
       "      <td>96</td>\n",
       "      <td>Brooklyn Nets</td>\n",
       "      <td>F</td>\n",
       "      <td>2007</td>\n",
       "      <td>1</td>\n",
       "      <td>2</td>\n",
       "      <td>208.0</td>\n",
       "      <td>2020</td>\n",
       "      <td>32</td>\n",
       "      <td>104.3</td>\n",
       "      <td>37199000.0</td>\n",
       "    </tr>\n",
       "    <tr>\n",
       "      <th>4</th>\n",
       "      <td>96</td>\n",
       "      <td>Houston Rockets</td>\n",
       "      <td>G</td>\n",
       "      <td>2009</td>\n",
       "      <td>1</td>\n",
       "      <td>3</td>\n",
       "      <td>196.0</td>\n",
       "      <td>2020</td>\n",
       "      <td>31</td>\n",
       "      <td>99.8</td>\n",
       "      <td>38199000.0</td>\n",
       "    </tr>\n",
       "  </tbody>\n",
       "</table>\n",
       "</div>"
      ],
      "text/plain": [
       "   rating                  team position  draft_year  draft_round  draft_peak  \\\n",
       "0      97    Los Angeles Lakers        F        2003            1           1   \n",
       "1      97  Los Angeles Clippers        F        2011            1          15   \n",
       "2      96       Milwaukee Bucks      F-G        2013            1          15   \n",
       "3      96         Brooklyn Nets        F        2007            1           2   \n",
       "4      96       Houston Rockets        G        2009            1           3   \n",
       "\n",
       "   height_cm  version_split  p_age  weight_kg  salary_usd  \n",
       "0      206.0           2020     36      113.4  37436858.0  \n",
       "1      201.0           2020     29      102.1  32742000.0  \n",
       "2      211.0           2020     26      109.8  25842697.0  \n",
       "3      208.0           2020     32      104.3  37199000.0  \n",
       "4      196.0           2020     31       99.8  38199000.0  "
      ]
     },
     "execution_count": 358,
     "metadata": {},
     "output_type": "execute_result"
    }
   ],
   "source": [
    "cols_to_drop2 = ['height', 'weight', 'b_day', 'version', 'salary', 'college', 'b_year', 'country']\n",
    "df.drop(columns=cols_to_drop2, inplace=True)\n",
    "df.head()"
   ]
  },
  {
   "cell_type": "markdown",
   "id": "370780c6",
   "metadata": {},
   "source": [
    "# 4. Final Preprocessing (Encoding categorical columns)\n",
    "- Using label encoder to encode the two categorical columns 'team', and 'position'.\n",
    "- teams are 30 so there will be 30 labels.\n",
    "- positions are 5 so there will be 5 labels. "
   ]
  },
  {
   "cell_type": "code",
   "execution_count": 359,
   "id": "e5ad1084",
   "metadata": {},
   "outputs": [
    {
     "data": {
      "text/html": [
       "<div>\n",
       "<style scoped>\n",
       "    .dataframe tbody tr th:only-of-type {\n",
       "        vertical-align: middle;\n",
       "    }\n",
       "\n",
       "    .dataframe tbody tr th {\n",
       "        vertical-align: top;\n",
       "    }\n",
       "\n",
       "    .dataframe thead th {\n",
       "        text-align: right;\n",
       "    }\n",
       "</style>\n",
       "<table border=\"1\" class=\"dataframe\">\n",
       "  <thead>\n",
       "    <tr style=\"text-align: right;\">\n",
       "      <th></th>\n",
       "      <th>team_Lencoded</th>\n",
       "    </tr>\n",
       "  </thead>\n",
       "  <tbody>\n",
       "    <tr>\n",
       "      <th>0</th>\n",
       "      <td>14</td>\n",
       "    </tr>\n",
       "    <tr>\n",
       "      <th>1</th>\n",
       "      <td>13</td>\n",
       "    </tr>\n",
       "    <tr>\n",
       "      <th>2</th>\n",
       "      <td>17</td>\n",
       "    </tr>\n",
       "    <tr>\n",
       "      <th>3</th>\n",
       "      <td>2</td>\n",
       "    </tr>\n",
       "    <tr>\n",
       "      <th>4</th>\n",
       "      <td>11</td>\n",
       "    </tr>\n",
       "    <tr>\n",
       "      <th>...</th>\n",
       "      <td>...</td>\n",
       "    </tr>\n",
       "    <tr>\n",
       "      <th>459</th>\n",
       "      <td>21</td>\n",
       "    </tr>\n",
       "    <tr>\n",
       "      <th>460</th>\n",
       "      <td>30</td>\n",
       "    </tr>\n",
       "    <tr>\n",
       "      <th>461</th>\n",
       "      <td>29</td>\n",
       "    </tr>\n",
       "    <tr>\n",
       "      <th>462</th>\n",
       "      <td>28</td>\n",
       "    </tr>\n",
       "    <tr>\n",
       "      <th>463</th>\n",
       "      <td>6</td>\n",
       "    </tr>\n",
       "  </tbody>\n",
       "</table>\n",
       "<p>464 rows × 1 columns</p>\n",
       "</div>"
      ],
      "text/plain": [
       "     team_Lencoded\n",
       "0               14\n",
       "1               13\n",
       "2               17\n",
       "3                2\n",
       "4               11\n",
       "..             ...\n",
       "459             21\n",
       "460             30\n",
       "461             29\n",
       "462             28\n",
       "463              6\n",
       "\n",
       "[464 rows x 1 columns]"
      ]
     },
     "execution_count": 359,
     "metadata": {},
     "output_type": "execute_result"
    }
   ],
   "source": [
    "le = LabelEncoder()\n",
    "df['team_Lencoded'] = le.fit_transform(df['team'])\n",
    "df[['team_Lencoded']]"
   ]
  },
  {
   "cell_type": "code",
   "execution_count": 360,
   "id": "64bc6045",
   "metadata": {},
   "outputs": [
    {
     "data": {
      "text/html": [
       "<div>\n",
       "<style scoped>\n",
       "    .dataframe tbody tr th:only-of-type {\n",
       "        vertical-align: middle;\n",
       "    }\n",
       "\n",
       "    .dataframe tbody tr th {\n",
       "        vertical-align: top;\n",
       "    }\n",
       "\n",
       "    .dataframe thead th {\n",
       "        text-align: right;\n",
       "    }\n",
       "</style>\n",
       "<table border=\"1\" class=\"dataframe\">\n",
       "  <thead>\n",
       "    <tr style=\"text-align: right;\">\n",
       "      <th></th>\n",
       "      <th>position_Lencoded</th>\n",
       "    </tr>\n",
       "  </thead>\n",
       "  <tbody>\n",
       "    <tr>\n",
       "      <th>0</th>\n",
       "      <td>2</td>\n",
       "    </tr>\n",
       "    <tr>\n",
       "      <th>1</th>\n",
       "      <td>2</td>\n",
       "    </tr>\n",
       "    <tr>\n",
       "      <th>2</th>\n",
       "      <td>4</td>\n",
       "    </tr>\n",
       "    <tr>\n",
       "      <th>3</th>\n",
       "      <td>2</td>\n",
       "    </tr>\n",
       "    <tr>\n",
       "      <th>4</th>\n",
       "      <td>5</td>\n",
       "    </tr>\n",
       "    <tr>\n",
       "      <th>...</th>\n",
       "      <td>...</td>\n",
       "    </tr>\n",
       "    <tr>\n",
       "      <th>459</th>\n",
       "      <td>5</td>\n",
       "    </tr>\n",
       "    <tr>\n",
       "      <th>460</th>\n",
       "      <td>5</td>\n",
       "    </tr>\n",
       "    <tr>\n",
       "      <th>461</th>\n",
       "      <td>0</td>\n",
       "    </tr>\n",
       "    <tr>\n",
       "      <th>462</th>\n",
       "      <td>5</td>\n",
       "    </tr>\n",
       "    <tr>\n",
       "      <th>463</th>\n",
       "      <td>3</td>\n",
       "    </tr>\n",
       "  </tbody>\n",
       "</table>\n",
       "<p>464 rows × 1 columns</p>\n",
       "</div>"
      ],
      "text/plain": [
       "     position_Lencoded\n",
       "0                    2\n",
       "1                    2\n",
       "2                    4\n",
       "3                    2\n",
       "4                    5\n",
       "..                 ...\n",
       "459                  5\n",
       "460                  5\n",
       "461                  0\n",
       "462                  5\n",
       "463                  3\n",
       "\n",
       "[464 rows x 1 columns]"
      ]
     },
     "execution_count": 360,
     "metadata": {},
     "output_type": "execute_result"
    }
   ],
   "source": [
    "df['position_Lencoded'] = le.fit_transform(df['position'])\n",
    "df[['position_Lencoded']]"
   ]
  },
  {
   "cell_type": "markdown",
   "id": "ebe3aa78",
   "metadata": {},
   "source": [
    "## 4.1. Dropping the original unencoded columns"
   ]
  },
  {
   "cell_type": "code",
   "execution_count": 361,
   "id": "34191833",
   "metadata": {},
   "outputs": [
    {
     "data": {
      "text/html": [
       "<div>\n",
       "<style scoped>\n",
       "    .dataframe tbody tr th:only-of-type {\n",
       "        vertical-align: middle;\n",
       "    }\n",
       "\n",
       "    .dataframe tbody tr th {\n",
       "        vertical-align: top;\n",
       "    }\n",
       "\n",
       "    .dataframe thead th {\n",
       "        text-align: right;\n",
       "    }\n",
       "</style>\n",
       "<table border=\"1\" class=\"dataframe\">\n",
       "  <thead>\n",
       "    <tr style=\"text-align: right;\">\n",
       "      <th></th>\n",
       "      <th>rating</th>\n",
       "      <th>draft_year</th>\n",
       "      <th>draft_round</th>\n",
       "      <th>draft_peak</th>\n",
       "      <th>height_cm</th>\n",
       "      <th>version_split</th>\n",
       "      <th>p_age</th>\n",
       "      <th>weight_kg</th>\n",
       "      <th>salary_usd</th>\n",
       "      <th>team_Lencoded</th>\n",
       "      <th>position_Lencoded</th>\n",
       "    </tr>\n",
       "  </thead>\n",
       "  <tbody>\n",
       "    <tr>\n",
       "      <th>0</th>\n",
       "      <td>97</td>\n",
       "      <td>2003</td>\n",
       "      <td>1</td>\n",
       "      <td>1</td>\n",
       "      <td>206.0</td>\n",
       "      <td>2020</td>\n",
       "      <td>36</td>\n",
       "      <td>113.4</td>\n",
       "      <td>37436858.0</td>\n",
       "      <td>14</td>\n",
       "      <td>2</td>\n",
       "    </tr>\n",
       "    <tr>\n",
       "      <th>1</th>\n",
       "      <td>97</td>\n",
       "      <td>2011</td>\n",
       "      <td>1</td>\n",
       "      <td>15</td>\n",
       "      <td>201.0</td>\n",
       "      <td>2020</td>\n",
       "      <td>29</td>\n",
       "      <td>102.1</td>\n",
       "      <td>32742000.0</td>\n",
       "      <td>13</td>\n",
       "      <td>2</td>\n",
       "    </tr>\n",
       "    <tr>\n",
       "      <th>2</th>\n",
       "      <td>96</td>\n",
       "      <td>2013</td>\n",
       "      <td>1</td>\n",
       "      <td>15</td>\n",
       "      <td>211.0</td>\n",
       "      <td>2020</td>\n",
       "      <td>26</td>\n",
       "      <td>109.8</td>\n",
       "      <td>25842697.0</td>\n",
       "      <td>17</td>\n",
       "      <td>4</td>\n",
       "    </tr>\n",
       "    <tr>\n",
       "      <th>3</th>\n",
       "      <td>96</td>\n",
       "      <td>2007</td>\n",
       "      <td>1</td>\n",
       "      <td>2</td>\n",
       "      <td>208.0</td>\n",
       "      <td>2020</td>\n",
       "      <td>32</td>\n",
       "      <td>104.3</td>\n",
       "      <td>37199000.0</td>\n",
       "      <td>2</td>\n",
       "      <td>2</td>\n",
       "    </tr>\n",
       "    <tr>\n",
       "      <th>4</th>\n",
       "      <td>96</td>\n",
       "      <td>2009</td>\n",
       "      <td>1</td>\n",
       "      <td>3</td>\n",
       "      <td>196.0</td>\n",
       "      <td>2020</td>\n",
       "      <td>31</td>\n",
       "      <td>99.8</td>\n",
       "      <td>38199000.0</td>\n",
       "      <td>11</td>\n",
       "      <td>5</td>\n",
       "    </tr>\n",
       "  </tbody>\n",
       "</table>\n",
       "</div>"
      ],
      "text/plain": [
       "   rating  draft_year  draft_round  draft_peak  height_cm  version_split  \\\n",
       "0      97        2003            1           1      206.0           2020   \n",
       "1      97        2011            1          15      201.0           2020   \n",
       "2      96        2013            1          15      211.0           2020   \n",
       "3      96        2007            1           2      208.0           2020   \n",
       "4      96        2009            1           3      196.0           2020   \n",
       "\n",
       "   p_age  weight_kg  salary_usd  team_Lencoded  position_Lencoded  \n",
       "0     36      113.4  37436858.0             14                  2  \n",
       "1     29      102.1  32742000.0             13                  2  \n",
       "2     26      109.8  25842697.0             17                  4  \n",
       "3     32      104.3  37199000.0              2                  2  \n",
       "4     31       99.8  38199000.0             11                  5  "
      ]
     },
     "execution_count": 361,
     "metadata": {},
     "output_type": "execute_result"
    }
   ],
   "source": [
    "df.drop(columns=['team', 'position'], inplace=True)\n",
    "df.head()"
   ]
  },
  {
   "cell_type": "markdown",
   "id": "0bbb6458",
   "metadata": {},
   "source": [
    "# 5. Print the Dataset so far"
   ]
  },
  {
   "cell_type": "code",
   "execution_count": 362,
   "id": "21693d75",
   "metadata": {},
   "outputs": [
    {
     "data": {
      "text/html": [
       "<div>\n",
       "<style scoped>\n",
       "    .dataframe tbody tr th:only-of-type {\n",
       "        vertical-align: middle;\n",
       "    }\n",
       "\n",
       "    .dataframe tbody tr th {\n",
       "        vertical-align: top;\n",
       "    }\n",
       "\n",
       "    .dataframe thead th {\n",
       "        text-align: right;\n",
       "    }\n",
       "</style>\n",
       "<table border=\"1\" class=\"dataframe\">\n",
       "  <thead>\n",
       "    <tr style=\"text-align: right;\">\n",
       "      <th></th>\n",
       "      <th>rating</th>\n",
       "      <th>draft_year</th>\n",
       "      <th>draft_round</th>\n",
       "      <th>draft_peak</th>\n",
       "      <th>height_cm</th>\n",
       "      <th>version_split</th>\n",
       "      <th>p_age</th>\n",
       "      <th>weight_kg</th>\n",
       "      <th>salary_usd</th>\n",
       "      <th>team_Lencoded</th>\n",
       "      <th>position_Lencoded</th>\n",
       "    </tr>\n",
       "  </thead>\n",
       "  <tbody>\n",
       "    <tr>\n",
       "      <th>0</th>\n",
       "      <td>97</td>\n",
       "      <td>2003</td>\n",
       "      <td>1</td>\n",
       "      <td>1</td>\n",
       "      <td>206.0</td>\n",
       "      <td>2020</td>\n",
       "      <td>36</td>\n",
       "      <td>113.4</td>\n",
       "      <td>37436858.0</td>\n",
       "      <td>14</td>\n",
       "      <td>2</td>\n",
       "    </tr>\n",
       "    <tr>\n",
       "      <th>1</th>\n",
       "      <td>97</td>\n",
       "      <td>2011</td>\n",
       "      <td>1</td>\n",
       "      <td>15</td>\n",
       "      <td>201.0</td>\n",
       "      <td>2020</td>\n",
       "      <td>29</td>\n",
       "      <td>102.1</td>\n",
       "      <td>32742000.0</td>\n",
       "      <td>13</td>\n",
       "      <td>2</td>\n",
       "    </tr>\n",
       "    <tr>\n",
       "      <th>2</th>\n",
       "      <td>96</td>\n",
       "      <td>2013</td>\n",
       "      <td>1</td>\n",
       "      <td>15</td>\n",
       "      <td>211.0</td>\n",
       "      <td>2020</td>\n",
       "      <td>26</td>\n",
       "      <td>109.8</td>\n",
       "      <td>25842697.0</td>\n",
       "      <td>17</td>\n",
       "      <td>4</td>\n",
       "    </tr>\n",
       "    <tr>\n",
       "      <th>3</th>\n",
       "      <td>96</td>\n",
       "      <td>2007</td>\n",
       "      <td>1</td>\n",
       "      <td>2</td>\n",
       "      <td>208.0</td>\n",
       "      <td>2020</td>\n",
       "      <td>32</td>\n",
       "      <td>104.3</td>\n",
       "      <td>37199000.0</td>\n",
       "      <td>2</td>\n",
       "      <td>2</td>\n",
       "    </tr>\n",
       "    <tr>\n",
       "      <th>4</th>\n",
       "      <td>96</td>\n",
       "      <td>2009</td>\n",
       "      <td>1</td>\n",
       "      <td>3</td>\n",
       "      <td>196.0</td>\n",
       "      <td>2020</td>\n",
       "      <td>31</td>\n",
       "      <td>99.8</td>\n",
       "      <td>38199000.0</td>\n",
       "      <td>11</td>\n",
       "      <td>5</td>\n",
       "    </tr>\n",
       "  </tbody>\n",
       "</table>\n",
       "</div>"
      ],
      "text/plain": [
       "   rating  draft_year  draft_round  draft_peak  height_cm  version_split  \\\n",
       "0      97        2003            1           1      206.0           2020   \n",
       "1      97        2011            1          15      201.0           2020   \n",
       "2      96        2013            1          15      211.0           2020   \n",
       "3      96        2007            1           2      208.0           2020   \n",
       "4      96        2009            1           3      196.0           2020   \n",
       "\n",
       "   p_age  weight_kg  salary_usd  team_Lencoded  position_Lencoded  \n",
       "0     36      113.4  37436858.0             14                  2  \n",
       "1     29      102.1  32742000.0             13                  2  \n",
       "2     26      109.8  25842697.0             17                  4  \n",
       "3     32      104.3  37199000.0              2                  2  \n",
       "4     31       99.8  38199000.0             11                  5  "
      ]
     },
     "execution_count": 362,
     "metadata": {},
     "output_type": "execute_result"
    }
   ],
   "source": [
    "df.head()  # Display the first few rows of the dataset"
   ]
  },
  {
   "cell_type": "markdown",
   "id": "bb231cfc",
   "metadata": {},
   "source": [
    "- So far I have cleaned the dataset and removed unnecessary columns and missing values.\n",
    "- I've also added new columns for 'p_age', 'height_cm', 'weight_kg', and 'version_split' to make the dataset more readable and easier to work with."
   ]
  },
  {
   "cell_type": "code",
   "execution_count": 363,
   "id": "60d3a140",
   "metadata": {},
   "outputs": [
    {
     "name": "stdout",
     "output_type": "stream",
     "text": [
      "<class 'pandas.core.frame.DataFrame'>\n",
      "RangeIndex: 464 entries, 0 to 463\n",
      "Data columns (total 11 columns):\n",
      " #   Column             Non-Null Count  Dtype  \n",
      "---  ------             --------------  -----  \n",
      " 0   rating             464 non-null    int64  \n",
      " 1   draft_year         464 non-null    int64  \n",
      " 2   draft_round        464 non-null    int64  \n",
      " 3   draft_peak         464 non-null    int64  \n",
      " 4   height_cm          464 non-null    float64\n",
      " 5   version_split      464 non-null    int64  \n",
      " 6   p_age              464 non-null    int64  \n",
      " 7   weight_kg          464 non-null    float64\n",
      " 8   salary_usd         464 non-null    float64\n",
      " 9   team_Lencoded      464 non-null    int64  \n",
      " 10  position_Lencoded  464 non-null    int64  \n",
      "dtypes: float64(3), int64(8)\n",
      "memory usage: 40.0 KB\n"
     ]
    }
   ],
   "source": [
    "df.info()"
   ]
  },
  {
   "cell_type": "markdown",
   "id": "852c6b56",
   "metadata": {},
   "source": [
    "## 5.1. Save the cleaned dataset to a new CSV file (version 1)"
   ]
  },
  {
   "cell_type": "code",
   "execution_count": 364,
   "id": "a2143e5d",
   "metadata": {},
   "outputs": [],
   "source": [
    "df.to_csv('nba2k_cleaned_v1.csv', index=False)"
   ]
  },
  {
   "cell_type": "markdown",
   "id": "75902ab8",
   "metadata": {},
   "source": [
    "# 6. Conclusion"
   ]
  },
  {
   "cell_type": "markdown",
   "id": "d854c8a3",
   "metadata": {},
   "source": [
    "- Cleaned the dataset completely from missing values and made sure no duplicates are present.\n",
    "- Added new columns for 'p_age', 'height_cm', 'weight_kg', and 'version_split' to make the dataset more readable and easier to work with.\n",
    "- Dropped unnecessary columns that won't affect the player's salary (irrelevant).\n",
    "- Used Label Encoding to Encode the 'team' and 'position' columns which where the only two remaining categorical columns.\n",
    "- Saved the cleaned dataset to a new CSV file (version 1 for testing)."
   ]
  }
 ],
 "metadata": {
  "kernelspec": {
   "display_name": "base",
   "language": "python",
   "name": "python3"
  },
  "language_info": {
   "codemirror_mode": {
    "name": "ipython",
    "version": 3
   },
   "file_extension": ".py",
   "mimetype": "text/x-python",
   "name": "python",
   "nbconvert_exporter": "python",
   "pygments_lexer": "ipython3",
   "version": "3.13.5"
  }
 },
 "nbformat": 4,
 "nbformat_minor": 5
}
